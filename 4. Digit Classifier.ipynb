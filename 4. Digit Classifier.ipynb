{
 "cells": [
  {
   "cell_type": "markdown",
   "metadata": {},
   "source": [
    "# Training a neural network to classify MNIST digits\n",
    "\n",
    "In this section, let us train a neural network to classify the MNIST dataset\n",
    "\n",
    "Let us load the data. (Courtesy of [Michael Nielson](http://neuralnetworksanddeeplearning.com/))"
   ]
  },
  {
   "cell_type": "code",
   "execution_count": 1,
   "metadata": {},
   "outputs": [
    {
     "ename": "ModuleNotFoundError",
     "evalue": "No module named 'cPickle'",
     "output_type": "error",
     "traceback": [
      "\u001b[1;31m---------------------------------------------------------------------------\u001b[0m",
      "\u001b[1;31mModuleNotFoundError\u001b[0m                       Traceback (most recent call last)",
      "\u001b[1;32m<ipython-input-1-48b5f24a613f>\u001b[0m in \u001b[0;36m<module>\u001b[1;34m()\u001b[0m\n\u001b[0;32m      3\u001b[0m \u001b[1;32mimport\u001b[0m \u001b[0mseaborn\u001b[0m \u001b[1;32mas\u001b[0m \u001b[0msns\u001b[0m\u001b[1;33m\u001b[0m\u001b[0m\n\u001b[0;32m      4\u001b[0m \u001b[1;32mimport\u001b[0m \u001b[0mmatplotlib\u001b[0m\u001b[1;33m.\u001b[0m\u001b[0mpyplot\u001b[0m \u001b[1;32mas\u001b[0m \u001b[0mplt\u001b[0m\u001b[1;33m\u001b[0m\u001b[0m\n\u001b[1;32m----> 5\u001b[1;33m \u001b[1;32mimport\u001b[0m \u001b[0mmnist_loader\u001b[0m\u001b[1;33m\u001b[0m\u001b[0m\n\u001b[0m\u001b[0;32m      6\u001b[0m \u001b[1;33m\u001b[0m\u001b[0m\n\u001b[0;32m      7\u001b[0m \u001b[1;32mdef\u001b[0m \u001b[0msigmoid\u001b[0m\u001b[1;33m(\u001b[0m\u001b[0mz\u001b[0m\u001b[1;33m)\u001b[0m\u001b[1;33m:\u001b[0m\u001b[1;33m\u001b[0m\u001b[0m\n",
      "\u001b[1;32mC:\\Apps\\ML Demo\\mnist_loader.py\u001b[0m in \u001b[0;36m<module>\u001b[1;34m()\u001b[0m\n\u001b[0;32m     11\u001b[0m \u001b[1;31m#### Libraries\u001b[0m\u001b[1;33m\u001b[0m\u001b[1;33m\u001b[0m\u001b[0m\n\u001b[0;32m     12\u001b[0m \u001b[1;31m# Standard library\u001b[0m\u001b[1;33m\u001b[0m\u001b[1;33m\u001b[0m\u001b[0m\n\u001b[1;32m---> 13\u001b[1;33m \u001b[1;32mimport\u001b[0m \u001b[0mcPickle\u001b[0m\u001b[1;33m\u001b[0m\u001b[0m\n\u001b[0m\u001b[0;32m     14\u001b[0m \u001b[1;32mimport\u001b[0m \u001b[0mgzip\u001b[0m\u001b[1;33m\u001b[0m\u001b[0m\n\u001b[0;32m     15\u001b[0m \u001b[1;33m\u001b[0m\u001b[0m\n",
      "\u001b[1;31mModuleNotFoundError\u001b[0m: No module named 'cPickle'"
     ]
    }
   ],
   "source": [
    "import numpy as np\n",
    "import random\n",
    "import seaborn as sns\n",
    "import matplotlib.pyplot as plt\n",
    "import mnist_loader\n",
    "\n",
    "def sigmoid(z):\n",
    "    return 1.0/(1+np.exp(-z))\n",
    "\n",
    "training_data, validation_data, test_data = mnist_loader.load_data_wrapper()\n",
    "print (\"Training set: {0}; Validation set: {1}; Test set: {2}\".format(len(training_data), len(validation_data), len(test_data)))"
   ]
  },
  {
   "cell_type": "markdown",
   "metadata": {},
   "source": [
    "Let us visualize a test data row."
   ]
  },
  {
   "cell_type": "code",
   "execution_count": 28,
   "metadata": {},
   "outputs": [
    {
     "data": {
      "image/png": "[encoded data removed]",
      "text/plain": [
       "<matplotlib.figure.Figure at 0x110420610>"
      ]
     },
     "metadata": {},
     "output_type": "display_data"
    },
    {
     "name": "stdout",
     "output_type": "stream",
     "text": [
      "Label: [[ 0.]\n",
      " [ 0.]\n",
      " [ 1.]\n",
      " [ 0.]\n",
      " [ 0.]\n",
      " [ 0.]\n",
      " [ 0.]\n",
      " [ 0.]\n",
      " [ 0.]\n",
      " [ 0.]]\n"
     ]
    }
   ],
   "source": [
    "idx = 5\n",
    "t = training_data[idx][0].reshape((28, 28))\n",
    "plt.imshow(t, cmap=\"gray\")\n",
    "plt.show()\n",
    "print \"Label: {0}\".format(training_data[idx][1])"
   ]
  },
  {
   "cell_type": "markdown",
   "metadata": {},
   "source": [
    "As can be seen, the input data is a vector of length 784 and label data is a vector of length 10. \n",
    "\n",
    "For example, a label of $[0,0,0,1,0,0,0,0,0,0]$ refers to number 3 since the 3rd index contains 1.\n",
    "\n",
    "So, it makes sense to have 784 inputs in the first layer and 10 outputs in the output layer.\n",
    "\n",
    "Let us initialize the neural network and see how it performs on the sample above."
   ]
  },
  {
   "cell_type": "code",
   "execution_count": 29,
   "metadata": {},
   "outputs": [
    {
     "name": "stdout",
     "output_type": "stream",
     "text": [
      "Label: 2; Obtained: 1\n"
     ]
    }
   ],
   "source": [
    "w1 = np.random.randn(hidden_units,28*28)\n",
    "w2 = np.random.randn(10,hidden_units)\n",
    "b1 = np.random.randn(hidden_units,1)\n",
    "b2 = np.random.randn(10,1)\n",
    "\n",
    "x,y = training_data[idx]\n",
    "a0 = x\n",
    "z1 = np.dot(w1, a0) + b1\n",
    "a1 = sigmoid(z1)\n",
    "z2 = np.dot(w2, a1) + b2\n",
    "a2 = sigmoid(z2)\n",
    "        \n",
    "print \"Label: {0}; Obtained: {1}\".format(np.argmax(y), np.argmax(a2))"
   ]
  },
  {
   "cell_type": "markdown",
   "metadata": {},
   "source": [
    "Let us train the model. The code is similar to XOR.\n",
    "\n",
    "We simply use stochastic gradient descent by constructing random mini batches from the training data without replacement. We quantify accurancy instead of error now by testing the model on a separate validation data."
   ]
  },
  {
   "cell_type": "code",
   "execution_count": 30,
   "metadata": {},
   "outputs": [
    {
     "name": "stdout",
     "output_type": "stream",
     "text": [
      "Epoch 1: 9147 / 10000\n",
      "Epoch 2: 9291 / 10000\n",
      "Epoch 3: 9386 / 10000\n",
      "Epoch 4: 9397 / 10000\n",
      "Epoch 5: 9435 / 10000\n",
      "Epoch 6: 9450 / 10000\n",
      "Epoch 7: 9440 / 10000\n",
      "Epoch 8: 9468 / 10000\n",
      "Epoch 9: 9487 / 10000\n",
      "Epoch 10: 9495 / 10000\n",
      "Epoch 11: 9501 / 10000\n",
      "Epoch 12: 9528 / 10000\n",
      "Epoch 13: 9512 / 10000\n",
      "Epoch 14: 9512 / 10000\n",
      "Epoch 15: 9502 / 10000\n"
     ]
    }
   ],
   "source": [
    "hidden_units = 30\n",
    "learning_rate = 3\n",
    "epochs = 15\n",
    "batch_size = 10\n",
    "\n",
    "for epoch in range(epochs):\n",
    "    random.shuffle(training_data)\n",
    "    n = len(training_data)\n",
    "    mini_batches = [training_data[k:k+batch_size] for k in xrange(0, n, batch_size)]\n",
    "    \n",
    "    for mini_batch in mini_batches:\n",
    "        del_w1 = np.zeros(w1.shape)\n",
    "        del_w2 = np.zeros(w2.shape)\n",
    "        del_b1 = np.zeros(b1.shape)\n",
    "        del_b2 = np.zeros(b2.shape)\n",
    "        \n",
    "        for x,y in mini_batch:\n",
    "            a0 = x\n",
    "            e = y\n",
    "            z1 = np.dot(w1, a0) + b1\n",
    "            a1 = sigmoid(z1)\n",
    "            z2 = np.dot(w2, a1) + b2\n",
    "            a2 = sigmoid(z2)\n",
    "        \n",
    "            d2 = (a2 - e) * a2 * (1-a2)\n",
    "            del_b2 += d2\n",
    "            del_w2 += np.dot(d2, a1.T) \n",
    "            d1 = np.dot(w2.T, d2) * a1 * (1-a1)\n",
    "            del_b1 += d1\n",
    "            del_w1 += np.dot(d1, a0.T)\n",
    "            \n",
    "        w1 -= (learning_rate * del_w1 / len(mini_batch))\n",
    "        b1 -= (learning_rate * del_b1 / len(mini_batch))\n",
    "        w2 -= (learning_rate * del_w2 / len(mini_batch))\n",
    "        b2 -= (learning_rate * del_b2 / len(mini_batch))\n",
    "    \n",
    "    accurate = 0\n",
    "    for x,y in validation_data:\n",
    "        a0 = x\n",
    "        e0 = y\n",
    "        z1 = np.dot(w1, a0) + b1\n",
    "        a1 = sigmoid(z1)\n",
    "        z2 = np.dot(w2, a1) + b2\n",
    "        a2 = sigmoid(z2)\n",
    "        \n",
    "        result = np.argmax(a2)\n",
    "        if result == e0:\n",
    "            accurate += 1\n",
    "    \n",
    "    print \"Epoch {0}: {1} / {2}\".format(epoch+1, accurate, len(validation_data))"
   ]
  },
  {
   "cell_type": "markdown",
   "metadata": {},
   "source": [
    "As we train, we can see that the accuracy improves on the validation data. Lets run the training case to be sure."
   ]
  },
  {
   "cell_type": "code",
   "execution_count": 36,
   "metadata": {},
   "outputs": [
    {
     "data": {
      "image/png": "[encoded data removed]",
      "text/plain": [
       "<matplotlib.figure.Figure at 0x1103cb690>"
      ]
     },
     "metadata": {},
     "output_type": "display_data"
    },
    {
     "name": "stdout",
     "output_type": "stream",
     "text": [
      "Label: 7; Obtained: 7\n"
     ]
    }
   ],
   "source": [
    "idx = 12341\n",
    "\n",
    "t = training_data[idx][0].reshape((28, 28))\n",
    "plt.imshow(t, cmap=\"gray\")\n",
    "plt.show()\n",
    "\n",
    "x,y = training_data[idx]\n",
    "a0 = x\n",
    "z1 = np.dot(w1, a0) + b1\n",
    "a1 = sigmoid(z1)\n",
    "z2 = np.dot(w2, a1) + b2\n",
    "a2 = sigmoid(z2)\n",
    "        \n",
    "print \"Label: {0}; Obtained: {1}\".format(np.argmax(y), np.argmax(a2))"
   ]
  },
  {
   "cell_type": "markdown",
   "metadata": {},
   "source": [
    "Lets try on test data that the neural network has never seen before."
   ]
  },
  {
   "cell_type": "code",
   "execution_count": 45,
   "metadata": {},
   "outputs": [
    {
     "data": {
      "image/png": "[encoded data removed]",
      "text/plain": [
       "<matplotlib.figure.Figure at 0x115693210>"
      ]
     },
     "metadata": {},
     "output_type": "display_data"
    },
    {
     "name": "stdout",
     "output_type": "stream",
     "text": [
      "Label: 3; Obtained: 3\n"
     ]
    }
   ],
   "source": [
    "idx = 3456\n",
    "\n",
    "t = test_data[idx][0].reshape((28, 28))\n",
    "plt.imshow(t, cmap=\"gray\")\n",
    "plt.show()\n",
    "\n",
    "x,y = test_data[idx]\n",
    "a0 = x\n",
    "z1 = np.dot(w1, a0) + b1\n",
    "a1 = sigmoid(z1)\n",
    "z2 = np.dot(w2, a1) + b2\n",
    "a2 = sigmoid(z2)\n",
    "        \n",
    "print \"Label: {0}; Obtained: {1}\".format(y, np.argmax(a2))"
   ]
  },
  {
   "cell_type": "markdown",
   "metadata": {},
   "source": [
    "Let us see where the prediction might be wrong"
   ]
  },
  {
   "cell_type": "code",
   "execution_count": 54,
   "metadata": {},
   "outputs": [
    {
     "data": {
      "image/png": "[encoded data removed]",
      "text/plain": [
       "<matplotlib.figure.Figure at 0x114eb2310>"
      ]
     },
     "metadata": {},
     "output_type": "display_data"
    },
    {
     "name": "stdout",
     "output_type": "stream",
     "text": [
      "Label: 3; Obtained: 5\n"
     ]
    }
   ],
   "source": [
    "found = False\n",
    "foundCount = 0\n",
    "idx = -1\n",
    "while not found:\n",
    "    idx +=1\n",
    "    \n",
    "    x,y = test_data[idx]\n",
    "    a0 = x\n",
    "    z1 = np.dot(w1, a0) + b1\n",
    "    a1 = sigmoid(z1)\n",
    "    z2 = np.dot(w2, a1) + b2\n",
    "    a2 = sigmoid(z2)\n",
    "\n",
    "    if y != np.argmax(a2):\n",
    "        foundCount += 1\n",
    "        if foundCount == 200:\n",
    "            found = True\n",
    "\n",
    "t = test_data[idx][0].reshape((28, 28))\n",
    "plt.imshow(t, cmap=\"gray\")\n",
    "plt.show()\n",
    "\n",
    "print \"Label: {0}; Obtained: {1}\".format(y, np.argmax(a2))"
   ]
  },
  {
   "cell_type": "markdown",
   "metadata": {},
   "source": [
    "We can see the errors are usually on letters that can be misread by humans too."
   ]
  }
 ],
 "metadata": {
  "kernelspec": {
   "display_name": "Python 3",
   "language": "python",
   "name": "python3"
  },
  "language_info": {
   "codemirror_mode": {
    "name": "ipython",
    "version": 3
   },
   "file_extension": ".py",
   "mimetype": "text/x-python",
   "name": "python",
   "nbconvert_exporter": "python",
   "pygments_lexer": "ipython3",
   "version": "3.6.1"
  }
 },
 "nbformat": 4,
 "nbformat_minor": 2
}
