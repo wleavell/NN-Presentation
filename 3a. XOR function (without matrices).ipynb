{
 "cells": [
  {
   "cell_type": "markdown",
   "metadata": {},
   "source": [
    "# Training a neuron to compute XOR function\n",
    "\n",
    "In this section, we would like to train an XOR function with the following truth table:-\n",
    "\n",
    "|inp1 | inp2 | out |\n",
    "|-|\n",
    "| 0 | 0 | 0 |\n",
    "| 0 | 1 | 1 |\n",
    "| 1 | 0 | 1 |\n",
    "| 1 | 1 | 0 |\n",
    "\n",
    "Let us try with single neuron as before."
   ]
  },
  {
   "cell_type": "code",
   "execution_count": 2,
   "metadata": {},
   "outputs": [
    {
     "data": {
      "image/png": "[encoded data removed]",
      "text/plain": [
       "<matplotlib.figure.Figure at 0x1799542bbe0>"
      ]
     },
     "metadata": {},
     "output_type": "display_data"
    },
    {
     "name": "stdout",
     "output_type": "stream",
     "text": [
      "0 0 0.500000000083\n",
      "0 1 0.500000000083\n",
      "1 0 0.500000000083\n",
      "1 1 0.500000000083\n"
     ]
    },
    {
     "data": {
      "image/png": "[encoded data removed]",
      "text/plain": [
       "<matplotlib.figure.Figure at 0x179992c49b0>"
      ]
     },
     "metadata": {},
     "output_type": "display_data"
    }
   ],
   "source": [
    "import numpy as np\n",
    "import seaborn as sns\n",
    "import matplotlib.pyplot as plt\n",
    "\n",
    "def sigmoid(z):\n",
    "    return 1.0/(1+np.exp(-z))\n",
    "\n",
    "inp = [[0, 0], [0, 1], [1, 0], [1, 1]]\n",
    "outp = [0, 1, 1, 0]\n",
    "\n",
    "w1 = np.random.rand()\n",
    "w2 = np.random.rand()\n",
    "b = np.random.rand()\n",
    "errors = []\n",
    "for i in range(2000):\n",
    "    del_b = 0\n",
    "    del_w1 = 0\n",
    "    del_w2 = 0\n",
    "    error = 0\n",
    "    for i in range(4):\n",
    "        x1 = inp[i][0]\n",
    "        x2 = inp[i][1]\n",
    "        e = outp[i]\n",
    "        \n",
    "        a = sigmoid(w1*x1 + w2*x2 + b)\n",
    "    \n",
    "        del_w1 += (a-e) * a * (1-a) * x1\n",
    "        del_w2 += (a-e) * a * (1-a) * x2\n",
    "        del_b += (a-e) * a * (1-a)\n",
    "        error += (a-e)**2/2\n",
    "        \n",
    "    del_w1 /= 4\n",
    "    del_w2 /= 4\n",
    "    del_b /= 4\n",
    "    error /= 4\n",
    "    \n",
    "    w1 -= del_w1\n",
    "    w2 -= del_w2\n",
    "    b -= del_b\n",
    "        \n",
    "    errors.append(error / 2)\n",
    "    \n",
    "plt.plot(errors)\n",
    "plt.show()\n",
    "for i1 in [0, 1]:\n",
    "    for i2 in [0, 1]:\n",
    "        print (i1, i2, sigmoid(w1*x1 + w2*x2 + b))\n",
    "        \n",
    "\n",
    "x1 = np.arange(0, 1, 0.01)\n",
    "x2 = np.arange(0, 1, 0.01)\n",
    "X1, X2 = np.meshgrid(x1, x2)\n",
    "Z = sigmoid(w1*X1 + w2*X2 + b)\n",
    "im = plt.imshow(Z, cmap=\"Greys\", extent=(0, 1, 1, 0))\n",
    "cset = plt.contour(Z, np.array([0.25, 0.5, 0.75]), extent=(0,1,0,1))\n",
    "plt.clabel(cset)\n",
    "plt.show()"
   ]
  },
  {
   "cell_type": "markdown",
   "metadata": {},
   "source": [
    "We can see that the error remains high after many itertions. The partition also looks wrong.\n",
    "\n",
    "The problem is that an XOR function requires two partitions whereas a single neuron can only perform a single partition.\n",
    "\n",
    "<img src=\"http://wantee.github.io/assets/images/posts/xor-5d.png\" width=\"500\"/>\n",
    "\n",
    "This brings us to the next part hidden layers. We can use hidden layers to partition the inputs into more than one regions.\n",
    "\n",
    "## Hidden layers\n",
    "\n",
    "A hidden layer is simply a layer in between the input neuron and the output. The output from the previous layer gets fed as an input to the next layer. We introduce a hidden layer consisting of two neurons.\n",
    "\n",
    "Thus, the new equations are as follows:-\n",
    "\n",
    "$$a^1_1 = \\sigma(w^1_{11}x_1+w^1_{12}x_2+b^1_1)$$\n",
    "\n",
    "$$a^1_2 = \\sigma(w^1_{21}x_1+w^1_{22}x_2+b^1_2)$$\n",
    "\n",
    "$$a = \\sigma(w^2_{11}a^1_1 + w^2_{21}a^1_2 + b^2_1)$$\n",
    "\n",
    "By repeating the steps in section 1, we can get the following for the final output layer:-\n",
    "\n",
    "$$\\frac{\\partial C}{\\partial w^2_{11}} = \\frac{1}{n}\\Sigma(a-e) * a * (1-a) * a^1_1$$\n",
    "\n",
    "$$\\frac{\\partial C}{\\partial w^2_{21}} = \\frac{1}{n}\\Sigma(a-e) * a * (1-a) * a^1_2$$\n",
    "\n",
    "$$\\frac{\\partial C}{\\partial b^2_1} = \\frac{1}{n}\\Sigma(a-e) * a * (1-a)$$\n",
    "\n",
    "Getting weights for first hidden layer is a bit tricky but easy to do. We will go through the steps for $w^1_{11}$ and extend it for the rest.\n",
    "\n",
    "We have from before:-\n",
    "\n",
    "$$\\frac{\\partial C}{\\partial a^1_1} = \\frac{1}{n}\\Sigma(a-e) * a * (1-a) * w^2_{11}$$\n",
    "\n",
    "Activation $a^1_1$ is given by:-\n",
    "\n",
    "$$a^1_1 = \\sigma(z^1_1)$$\n",
    "\n",
    "$$\\frac{d a^1_1}{d z^1_1} = a^1_1(1-a^1_1)$$\n",
    "\n",
    "The sum is given by:-\n",
    "\n",
    "$$z^1_1 = w^1_{11}x_1+w^1_{12}x_2+b^1_1$$\n",
    "\n",
    "$$\\frac{\\partial z^1_1}{\\partial w^1_{11}}=x_1$$\n",
    "\n",
    "Using chain rule, we get these gradient formulae:-\n",
    "\n",
    "$$\\frac{\\partial C}{\\partial w^1_{11}} = \\frac{1}{n}\\Sigma(a-e)*a*(1-a)*w^2_{11}*a^1_1*(1-a^1_1)*x_1$$\n",
    "\n",
    "$$\\frac{\\partial C}{\\partial w^1_{12}} = \\frac{1}{n}\\Sigma(a-e)*a*(1-a)*w^2_{11}*a^1_1*(1-a^1_1)*x_2$$\n",
    "\n",
    "$$\\frac{\\partial C}{\\partial b^1_1} = \\frac{1}{n}\\Sigma(a-e)*a*(1-a)*w^2_{11}*a^1_1*(1-a^1_1)$$\n",
    "\n",
    "$$\\frac{\\partial C}{\\partial w^1_{21}} = \\frac{1}{n}\\Sigma(a-e)*a*(1-a)*w^2_{12}*a^1_2*(1-a^1_2)*x_1$$\n",
    "\n",
    "$$\\frac{\\partial C}{\\partial w^1_{22}} = \\frac{1}{n}\\Sigma(a-e)*a*(1-a)*w^2_{22}*a^1_2*(1-a^1_2)*x_2$$\n",
    "\n",
    "$$\\frac{\\partial C}{\\partial b^1_2} = \\frac{1}{n}\\Sigma(a-e)*a*(1-a)*w^2_{11}*a^1_2*(1-a^1_2)$$\n",
    "\n",
    "Phew! That certainly took long. Lets perform gradient descent with the formula!"
   ]
  },
  {
   "cell_type": "code",
   "execution_count": 4,
   "metadata": {},
   "outputs": [
    {
     "data": {
      "image/png": "[encoded data removed]",
      "text/plain": [
       "<matplotlib.figure.Figure at 0x10dda2610>"
      ]
     },
     "metadata": {},
     "output_type": "display_data"
    },
    {
     "name": "stdout",
     "output_type": "stream",
     "text": [
      "0 0 0 0.045699579226\n",
      "0 1 1 0.958945230407\n",
      "1 0 1 0.958962981746\n",
      "1 1 0 0.0435809493666\n"
     ]
    },
    {
     "data": {
      "image/png": "[encoded data removed]",
      "text/plain": [
       "<matplotlib.figure.Figure at 0x10e637710>"
      ]
     },
     "metadata": {},
     "output_type": "display_data"
    }
   ],
   "source": [
    "errors = []\n",
    "w111 = np.random.rand()\n",
    "w112 = np.random.rand()\n",
    "w121 = np.random.rand()\n",
    "w122 = np.random.rand()\n",
    "b11 = np.random.rand()\n",
    "b12 = np.random.rand()\n",
    "w211 = np.random.rand()\n",
    "w212 = np.random.rand()\n",
    "b21 = np.random.rand()\n",
    "for i in range(5000):\n",
    "    del_w111 = 0\n",
    "    del_w112 = 0\n",
    "    del_w121 = 0\n",
    "    del_w122 = 0\n",
    "    del_b11 = 0\n",
    "    del_b12 = 0\n",
    "    del_w211 = 0\n",
    "    del_w212 = 0\n",
    "    del_b21 = 0\n",
    "    error = 0\n",
    "    for i in range(4):\n",
    "        x1 = inp[i][0]\n",
    "        x2 = inp[i][1]\n",
    "        e = outp[i]\n",
    "        \n",
    "        a11 = sigmoid(w111*x1 + w112*x2 + b11)\n",
    "        a12 = sigmoid(w121*x1 + w122*x2 + b12)\n",
    "        a = sigmoid(w211*a11 + w212*a12 + b21)\n",
    "        error += (0.5 * (a - e)**2)\n",
    "        del_b21 += (a-e) * a * (1-a)\n",
    "        del_w211 += a11 * (a-e) * a * (1-a)\n",
    "        del_w212 += a12 * (a-e) * a * (1-a)\n",
    "            \n",
    "        del_b11 += a11 * (1 - a11) * w211 * (a-e) * a * (1-a)\n",
    "        del_w111 += x1 * a11 * (1 - a11) * w211 * (a-e) * a * (1-a)\n",
    "        del_w112 += x2 * a11 * (1 - a11) * w211 * (a-e) * a * (1-a)\n",
    "        \n",
    "        del_b12 += a12 * (1 - a12) * w212 * (a-e) * a * (1-a)\n",
    "        del_w121 += x1 * a12 * (1 - a12) * w212 * (a-e) * a * (1-a)\n",
    "        del_w122 += x2 * a12 * (1 - a12) * w212 * (a-e) * a * (1-a)\n",
    "    \n",
    "    w111 -= del_w111/4\n",
    "    w112 -= del_w112/4\n",
    "    w121 -= del_w121/4\n",
    "    w122 -= del_w122/4\n",
    "    b11 -= del_b11/4\n",
    "    b12 -= del_b12/4\n",
    "    w211 -= del_w211/4\n",
    "    w212 -= del_w212/4\n",
    "    b21 -= del_b21/4\n",
    "    errors.append(error / 4)\n",
    "#print w111, w112, w121, w122, b11, b12, w211, w212, b21\n",
    "plt.plot(errors)\n",
    "plt.show()\n",
    "for i in range(4):\n",
    "    x1 = inp[i][0]\n",
    "    x2 = inp[i][1]\n",
    "    e = outp[i]\n",
    "    a11 = sigmoid(w111*x1 + w112*x2 + b11)\n",
    "    a12 = sigmoid(w121*x1 + w122*x2 + b12)\n",
    "    a = sigmoid(w211*a11 + w212*a12 + b21)\n",
    "        \n",
    "    print x1, x2, e, a\n",
    "    \n",
    "x1 = np.arange(0, 1, 0.01)\n",
    "x2 = np.arange(0, 1, 0.01)\n",
    "X1, X2 = np.meshgrid(x1, x2)\n",
    "a11 = sigmoid(w111*X1 + w112*X2 + b11)\n",
    "a12 = sigmoid(w121*X1 + w122*X2 + b12)\n",
    "Z = sigmoid(w211*a11 + w212*a12 + b21)\n",
    "im = plt.imshow(Z, cmap=\"Greys\", extent=(0, 1, 1, 0))\n",
    "cset = plt.contour(Z, np.array([0.5]), extent=(0,1,0,1))\n",
    "plt.clabel(cset)\n",
    "plt.show()"
   ]
  },
  {
   "cell_type": "markdown",
   "metadata": {},
   "source": [
    "As can be seen, using a hidden layer lets us create richer partition in the input data."
   ]
  }
 ],
 "metadata": {
  "kernelspec": {
   "display_name": "Python 3",
   "language": "python",
   "name": "python3"
  },
  "language_info": {
   "codemirror_mode": {
    "name": "ipython",
    "version": 3
   },
   "file_extension": ".py",
   "mimetype": "text/x-python",
   "name": "python",
   "nbconvert_exporter": "python",
   "pygments_lexer": "ipython3",
   "version": "3.6.1"
  }
 },
 "nbformat": 4,
 "nbformat_minor": 2
}
